# Data Science & Business Analytics Task-1


### Topic: PREDICTION USING SUPERVISED LEARNING
### Author : Dhruv Dodia
### TASK 1:Predict the percentage of a student based on the number of study hours


# Step:1 --- Importing all libraries required in this notebook


import pandas as pd
import numpy as np

import matplotlib.pyplot as plt
%matplotlib inline


from sklearn.model_selection import train_test_split
from sklearn.linear_model import LinearRegression

# Step:2--- Reading data from csv file and visualization


data = pd.read_csv("http://bit.ly/w-data")

data.head()

data.describe()

data.isnull().sum()

# Step:3--- Data Visualization



data.plot(x="Hours", y="Scores", style="*")
plt.title("Hours vs Percentage")
plt.xlabel("Hours studied")
plt.ylabel("Percentage score")

# Step:4 --- Preparing the data

# Independent variable 
# Input = Hours
x = data.drop(['Scores'], axis = 1)
x.head()

# Dependent variable
# Output = Scores
y = data.drop(['Hours'], axis = 1)
y.head()

x_train, x_test, y_train, y_test = train_test_split(x,y, test_size = 0.20, random_state = 0)

# Step:5 --- Training the algorithm

lr = LinearRegression()  
lr.fit(x_train, y_train)

line = lr.coef_ * x + lr.intercept_

plt.title("Linear Regression vs Trained Model")
plt.scatter(x, y, color='orange')
plt.xlabel('Hours studied')
plt.ylabel('Percentage Score')
plt.plot(x,line);

#Step:6 ---Prediction

print(x_test)

y_pred = lr.predict(x_test)
y_pred

y_test = y_test.values


# df = pd.DataFrame([{'Actual': list(y_test), 'Predicted': list(y_pred)}])
# df

# Actual VS Predicted
list(zip(y_test,y_pred))

# Step:7 ---Solution

hour =[9.25]
pred=lr.predict([hour])

print("No of Hours = {}".format(hour))
print("Predicted Score = {:.2f}".format(pred[0][0]))

hours = 9.25
pred2=np.array([hours])
print(pred2)
pred2=pred2.reshape(-1,1)
print(pred)
pred2 = lr.predict([[9.5]])
print("No of Hours = {}".format(hours))
print("Predicted Score = {:.2f}".format(pred2[0][0]))

hours = 9.25
pred2=np.array([hours])
print(pred2)

pred2 = lr.predict([[hours]])
print("No of Hours = {}".format(hours))
print("Predicted Score = {:.2f}".format(pred2[0][0]))

# Step:8 ---Evaluating the model

from sklearn import metrics

print('Mean absolute error : ', metrics.mean_absolute_error(y_test, y_pred))

print('\nMean squared error : ', metrics.mean_absolute_error(y_test, y_pred))

print('\nRoot mean squared error : ', np.sqrt(metrics.mean_absolute_error(y_test, y_pred)))



print("Slope of Regression Line : ",lr.coef_[0][0])
print("\nY-intercept Of Regression Line : ",lr.intercept_[0])
